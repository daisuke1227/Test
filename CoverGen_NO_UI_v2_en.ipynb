{
  "cells": [
    {
      "cell_type": "markdown",
      "metadata": {
        "id": "view-in-github",
        "colab_type": "text"
      },
      "source": [
        "<a href=\"https://colab.research.google.com/github/daisuke1227/Test/blob/main/CoverGen_NO_UI_v2_en.ipynb\" target=\"_parent\"><img src=\"https://colab.research.google.com/assets/colab-badge.svg\" alt=\"Open In Colab\"/></a>"
      ]
    },
    {
      "cell_type": "markdown",
      "source": [
        "Credits to ardha27, creator of the base notebook\n",
        "https://github.com/ardha27\n",
        "\n",
        "\n",
        "Fixed and improved by:\n",
        "[Not Eddy (Spanish Mod)](http://discord.com/users/274566299349155851.),\n",
        "[Raid](http://discord.com/users/975389927355318323.), [Hina](http://discord.com/users/444684887363026974.) & [GDR](http://discord.com/users/310840858767523846.)\n",
        "\n",
        "Members of the Staff of [AI HUB](https://discord.gg/aihub) on Discord"
      ],
      "metadata": {
        "id": "PNIn-NKDjYJ3"
      }
    },
    {
      "cell_type": "markdown",
      "source": [
        "### Guide to using this notebook: https://docs.google.com/document/d/e/2PACX-1vThk7Qo7yCWNVbxOmahl2R8_Jgi6TFuMBUIi-PWre_HIN0lFTq-dr37Rh5iJlGgYb_vFapXMHt2W8Kp/pub"
      ],
      "metadata": {
        "id": "Zn7iDV4gfRDr"
      }
    },
    {
      "cell_type": "code",
      "source": [
        "#@title # **Clone and Install**\n",
        "#@markdown The installation takes about 6 minutes, if it takes much longer ping me at [AI HUB](https://discord.gg/aihub)\n",
        "\n",
        "#Fixing CUDA bug\n",
        "#!sudo apt update\n",
        "#!yes | sudo DEBIAN_FRONTEND=noninteractive apt-get -yq install cuda-11-8\n",
        "#!find / -name '*libcublasLt.so*'\n",
        "\n",
        "#AICoverGen starting code\n",
        "!git clone https://github.com/Eddycrack864/AICoverGen-NO-UI-en.git\n",
        "%cd /content/AICoverGen-NO-UI-en\n",
        "!pip install -q -r requirements.txt\n",
        "!sudo apt update\n",
        "!sudo apt install sox\n",
        "#New code to fix the CUDA by Hina and GDR bug\n",
        "!python -m pip install ort-nightly-gpu --index-url=https://aiinfra.pkgs.visualstudio.com/PublicPackages/_packaging/ort-cuda-12-nightly/pypi/simple/\n",
        "\n",
        "#Download MDXNet Vocal Separation and Hubert Base Models\n",
        "!python src/download_models.py"
      ],
      "metadata": {
        "id": "xwmeRJL8PMaP"
      },
      "execution_count": null,
      "outputs": []
    },
    {
      "cell_type": "code",
      "execution_count": null,
      "metadata": {
        "id": "9aMm_NgjUH4T",
        "cellView": "form"
      },
      "outputs": [],
      "source": [
        "#@markdown #**Model Download Function**\n",
        "#@markdown Paste your Drive or Hugging Face link\n",
        "url = \"https://huggingface.co/vexxed/VexxedRVC/resolve/main/Sonic-SA2-Ov2Super-40k-300e.zip?download=true\"  # @param {type:\"string\"}\n",
        "#@markdown Give a name to the model\n",
        "dir_name = \"sonic\"  # @param {type:\"string\"}\n",
        "\n",
        "import os\n",
        "import zipfile\n",
        "import shutil\n",
        "import urllib.request\n",
        "import gdown\n",
        "\n",
        "BASE_DIR = os.getcwd()\n",
        "rvc_models_dir = os.path.join(BASE_DIR, 'rvc_models')\n",
        "\n",
        "def extract_zip(extraction_folder, zip_name):\n",
        "    os.makedirs(extraction_folder, exist_ok=True)\n",
        "    with zipfile.ZipFile(zip_name, 'r') as zip_ref:\n",
        "        zip_ref.extractall(extraction_folder)\n",
        "    os.remove(zip_name)\n",
        "\n",
        "    index_filepath, model_filepath = None, None\n",
        "    for root, dirs, files in os.walk(extraction_folder):\n",
        "        for name in files:\n",
        "            if name.endswith('.index') and os.stat(os.path.join(root, name)).st_size > 1024 * 100:\n",
        "                index_filepath = os.path.join(root, name)\n",
        "\n",
        "            if name.endswith('.pth') and os.stat(os.path.join(root, name)).st_size > 1024 * 1024 * 40:\n",
        "                model_filepath = os.path.join(root, name)\n",
        "\n",
        "    if not model_filepath:\n",
        "        raise Exception(f'No .pth model file was found in the extracted zip. Please check {extraction_folder}.')\n",
        "\n",
        "    # move model and index file to extraction folder\n",
        "    os.rename(model_filepath, os.path.join(extraction_folder, os.path.basename(model_filepath)))\n",
        "    if index_filepath:\n",
        "        os.rename(index_filepath, os.path.join(extraction_folder, os.path.basename(index_filepath)))\n",
        "\n",
        "    # remove any unnecessary nested folders\n",
        "    for filepath in os.listdir(extraction_folder):\n",
        "        if os.path.isdir(os.path.join(extraction_folder, filepath)):\n",
        "            shutil.rmtree(os.path.join(extraction_folder, filepath))\n",
        "\n",
        "def download_model(url, dir_name):\n",
        "    try:\n",
        "        extraction_folder = os.path.join(rvc_models_dir, dir_name)\n",
        "\n",
        "        if not os.path.exists(extraction_folder):\n",
        "            print(f'[~] Downloading voice model with name {dir_name}...')\n",
        "\n",
        "            zip_name = url.split('/')[-1]\n",
        "\n",
        "            urllib.request.urlretrieve(url, zip_name)\n",
        "\n",
        "            print('[~] Extracting zip...')\n",
        "            extract_zip(extraction_folder, zip_name)\n",
        "            print(f'[+] {dir_name} Model successfully downloaded!')\n",
        "        else:\n",
        "            print(f'[~] Voice model directory {dir_name} already exists! Skipping download...')\n",
        "\n",
        "    except Exception as e:\n",
        "        raise Exception(str(e))\n",
        "\n",
        "def download_online_model_drive(file_id, dir_name):\n",
        "    try:\n",
        "        extraction_folder = os.path.join(rvc_models_dir, dir_name)\n",
        "\n",
        "        if not os.path.exists(extraction_folder):\n",
        "            print(f'[~] Downloading voice model with name {dir_name}...')\n",
        "\n",
        "            zip_name = f'{dir_name}.zip'\n",
        "            gdown.download(f'https://drive.google.com/uc?id={file_id}', zip_name, quiet=False)\n",
        "\n",
        "            print('[~] Extracting zip...')\n",
        "            extract_zip(extraction_folder, zip_name)\n",
        "            print(f'[+] {dir_name} Model successfully downloaded!')\n",
        "        else:\n",
        "            print(f'[~] Voice model directory {dir_name} already exists! Skipping download...')\n",
        "\n",
        "    except Exception as e:\n",
        "        raise Exception(str(e))\n",
        "\n",
        "# Detecta si la URL es de Google Drive o Hugging Face\n",
        "if 'drive.google.com' in url:\n",
        "    file_id_drive = url.split('/')[-2]\n",
        "    download_online_model_drive(file_id_drive, dir_name)\n",
        "elif 'huggingface.co' in url:\n",
        "    download_model(url, dir_name)\n",
        "else:\n",
        "    print('Unrecognized URL. Make sure you provide a Google Drive or Hugging Face link.')"
      ]
    },
    {
      "cell_type": "code",
      "source": [
        "#@title # **Mount Drive (Optional)**\n",
        "#@markdown ## This is only used if the audio for the cover is uploaded to Drive\n",
        "from google.colab import drive\n",
        "drive.mount('/content/drive')"
      ],
      "metadata": {
        "id": "iyKJJ_Cu_q-b"
      },
      "execution_count": null,
      "outputs": []
    },
    {
      "cell_type": "code",
      "source": [
        "# @title # **Generate Cover**\n",
        "# @markdown ## Output generated inside \"FIX\\song_output\\random_number\"\n",
        "# @markdown YT link or audio path if in Drive\n",
        "SONG_INPUT = \"https://www.youtube.com/watch?v=rNQy3BxEcII&pp=ygU3amFuZSByZW1vdmVyL2RsdHprIC0gd29vZHNpZGUgZ2FyZGVucyAxNiBkZWNlbWJlciAyMDEyIA%3D%3D\" # @param {type:\"string\"}\n",
        "RVC_DIRNAME = \"sonic\" # @param {type:\"string\"}\n",
        "PITCH_CHANGE = 0 # @param {type:\"integer\"}\n",
        "PITCH_CHANGE_ALL = 0 # @param {type:\"integer\"}\n",
        "# @markdown Voice Conversion Options\n",
        "INDEX_RATE = 0.75 # @param {type:\"number\"}\n",
        "FILTER_RADIUS = 3 # @param {type:\"integer\"}\n",
        "PITCH_DETECTION_ALGO = \"rmvpe\" # @param [\"rmvpe\", \"mangio-crepe\"]\n",
        "CREPE_HOP_LENGTH = 64 # @param {type:\"integer\"}\n",
        "PROTECT = 0.33 # @param {type:\"number\"}\n",
        "REMIX_MIX_RATE = 0.25  # @param {type:\"number\"}\n",
        "# @markdown Audio Mixing Options\n",
        "MAIN_VOL = 0 # @param {type:\"integer\"}\n",
        "BACKUP_VOL = 0 # @param {type:\"integer\"}\n",
        "INST_VOL = 0 # @param {type:\"integer\"}\n",
        "# @markdown Reverb Control\n",
        "REVERB_SIZE = 0.15 # @param {type:\"number\"}\n",
        "REVERB_WETNESS = 0.2 # @param {type:\"number\"}\n",
        "REVERB_DRYNESS = 0.8 # @param {type:\"number\"}\n",
        "REVERB_DAMPING = 0.7 # @param {type:\"number\"}\n",
        "# @markdown Output Format\n",
        "OUTPUT_FORMAT = \"wav\" # @param [\"mp3\", \"wav\"]\n",
        "\n",
        "import subprocess\n",
        "\n",
        "command = [\n",
        "    \"python\",\n",
        "    \"src/main.py\",\n",
        "    \"-i\", SONG_INPUT,\n",
        "    \"-dir\", RVC_DIRNAME,\n",
        "    \"-p\", str(PITCH_CHANGE),\n",
        "    \"-k\",\n",
        "    \"-ir\", str(INDEX_RATE),\n",
        "    \"-fr\", str(FILTER_RADIUS),\n",
        "    \"-rms\", str(REMIX_MIX_RATE),\n",
        "    \"-palgo\", PITCH_DETECTION_ALGO,\n",
        "    \"-hop\", str(CREPE_HOP_LENGTH),\n",
        "    \"-pro\", str(PROTECT),\n",
        "    \"-mv\", str(MAIN_VOL),\n",
        "    \"-bv\", str(BACKUP_VOL),\n",
        "    \"-iv\", str(INST_VOL),\n",
        "    \"-pall\", str(PITCH_CHANGE_ALL),\n",
        "    \"-rsize\", str(REVERB_SIZE),\n",
        "    \"-rwet\", str(REVERB_WETNESS),\n",
        "    \"-rdry\", str(REVERB_DRYNESS),\n",
        "    \"-rdamp\", str(REVERB_DAMPING),\n",
        "    \"-oformat\", OUTPUT_FORMAT\n",
        "]\n",
        "\n",
        "# Open a subprocess and capture its output\n",
        "process = subprocess.Popen(command, stdout=subprocess.PIPE, stderr=subprocess.STDOUT, universal_newlines=True)\n",
        "\n",
        "# Print the output in real-time\n",
        "for line in process.stdout:\n",
        "    print(line, end='')\n",
        "\n",
        "# Wait for the process to finish\n",
        "process.wait()\n",
        "\n",
        "# @markdown Example of generated audio path\n",
        "\n",
        "# @markdown ![route.png](data:image/png;base64,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)"
      ],
      "metadata": {
        "id": "DtHla7cvRRqh"
      },
      "execution_count": null,
      "outputs": []
    },
    {
      "cell_type": "code",
      "source": [
        "from google.colab import drive\n",
        "drive.mount('/content/drive')"
      ],
      "metadata": {
        "id": "5rL2pQ-cIPS9"
      },
      "execution_count": null,
      "outputs": []
    }
  ],
  "metadata": {
    "accelerator": "GPU",
    "colab": {
      "provenance": [],
      "private_outputs": true,
      "gpuType": "T4",
      "include_colab_link": true
    },
    "kernelspec": {
      "display_name": "Python 3",
      "name": "python3"
    },
    "language_info": {
      "name": "python"
    }
  },
  "nbformat": 4,
  "nbformat_minor": 0
}